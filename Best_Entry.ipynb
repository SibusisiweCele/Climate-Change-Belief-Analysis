{
 "cells": [
  {
   "cell_type": "code",
   "execution_count": 1,
   "metadata": {
    "_cell_guid": "b1076dfc-b9ad-4769-8c92-a6c4dae69d19",
    "_uuid": "8f2839f25d086af736a60e9eeb907d3b93b6e0e5",
    "execution": {
     "iopub.execute_input": "2020-10-17T17:14:41.286039Z",
     "iopub.status.busy": "2020-10-17T17:14:41.284884Z",
     "iopub.status.idle": "2020-10-17T17:14:41.290086Z",
     "shell.execute_reply": "2020-10-17T17:14:41.289106Z"
    },
    "papermill": {
     "duration": 0.033925,
     "end_time": "2020-10-17T17:14:41.290249",
     "exception": false,
     "start_time": "2020-10-17T17:14:41.256324",
     "status": "completed"
    },
    "tags": []
   },
   "outputs": [
    {
     "name": "stdout",
     "output_type": "stream",
     "text": [
      "/kaggle/input/climate-change-edsa2020-21/train.csv\n",
      "/kaggle/input/climate-change-edsa2020-21/test.csv\n",
      "/kaggle/input/climate-change-edsa2020-21/sample_submission.csv\n"
     ]
    }
   ],
   "source": [
    "# This Python 3 environment comes with many helpful analytics libraries installed\n",
    "# It is defined by the kaggle/python Docker image: https://github.com/kaggle/docker-python\n",
    "# For example, here's several helpful packages to load\n",
    "\n",
    "import numpy as np # linear algebra\n",
    "import pandas as pd # data processing, CSV file I/O (e.g. pd.read_csv)\n",
    "\n",
    "# Input data files are available in the read-only \"../input/\" directory\n",
    "# For example, running this (by clicking run or pressing Shift+Enter) will list all files under the input directory\n",
    "\n",
    "import os\n",
    "for dirname, _, filenames in os.walk('/kaggle/input'):\n",
    "    for filename in filenames:\n",
    "        print(os.path.join(dirname, filename))\n",
    "\n",
    "# You can write up to 5GB to the current directory (/kaggle/working/) that gets preserved as output when you create a version using \"Save & Run All\" \n",
    "# You can also write temporary files to /kaggle/temp/, but they won't be saved outside of the current session"
   ]
  },
  {
   "cell_type": "markdown",
   "metadata": {
    "papermill": {
     "duration": 0.020478,
     "end_time": "2020-10-17T17:14:41.333242",
     "exception": false,
     "start_time": "2020-10-17T17:14:41.312764",
     "status": "completed"
    },
    "tags": []
   },
   "source": [
    "Importing libraries"
   ]
  },
  {
   "cell_type": "code",
   "execution_count": 2,
   "metadata": {
    "execution": {
     "iopub.execute_input": "2020-10-17T17:14:41.390558Z",
     "iopub.status.busy": "2020-10-17T17:14:41.389678Z",
     "iopub.status.idle": "2020-10-17T17:14:43.151540Z",
     "shell.execute_reply": "2020-10-17T17:14:43.150711Z"
    },
    "papermill": {
     "duration": 1.795735,
     "end_time": "2020-10-17T17:14:43.151667",
     "exception": false,
     "start_time": "2020-10-17T17:14:41.355932",
     "status": "completed"
    },
    "tags": []
   },
   "outputs": [],
   "source": [
    "import pandas as pd\n",
    "import numpy as np\n",
    "import nltk\n",
    "import string\n",
    "import re\n",
    "from sklearn.feature_extraction.text import TfidfVectorizer\n",
    "from sklearn.linear_model import LogisticRegression\n",
    "from sklearn.naive_bayes import MultinomialNB\n",
    "from sklearn.ensemble import RandomForestClassifier, AdaBoostClassifier\n",
    "from sklearn.svm import LinearSVC\n",
    "from sklearn.model_selection import train_test_split\n",
    "from sklearn.naive_bayes import MultinomialNB\n",
    "from sklearn.utils import resample\n",
    "from nltk.stem import WordNetLemmatizer\n",
    "from nltk.corpus import stopwords\n",
    "\n",
    "from sklearn.metrics import f1_score\n",
    "\n",
    "import seaborn as sns\n",
    "import matplotlib.pyplot as plt\n",
    "%matplotlib inline"
   ]
  },
  {
   "cell_type": "markdown",
   "metadata": {
    "papermill": {
     "duration": 0.020904,
     "end_time": "2020-10-17T17:14:43.194735",
     "exception": false,
     "start_time": "2020-10-17T17:14:43.173831",
     "status": "completed"
    },
    "tags": []
   },
   "source": [
    "Loading data"
   ]
  },
  {
   "cell_type": "code",
   "execution_count": 3,
   "metadata": {
    "execution": {
     "iopub.execute_input": "2020-10-17T17:14:43.249864Z",
     "iopub.status.busy": "2020-10-17T17:14:43.249158Z",
     "iopub.status.idle": "2020-10-17T17:14:43.338592Z",
     "shell.execute_reply": "2020-10-17T17:14:43.337915Z"
    },
    "papermill": {
     "duration": 0.122327,
     "end_time": "2020-10-17T17:14:43.338718",
     "exception": false,
     "start_time": "2020-10-17T17:14:43.216391",
     "status": "completed"
    },
    "tags": []
   },
   "outputs": [],
   "source": [
    "train = pd.read_csv('../input/climate-change-edsa2020-21/train.csv')\n",
    "test = pd.read_csv('../input/climate-change-edsa2020-21/test.csv')"
   ]
  },
  {
   "cell_type": "markdown",
   "metadata": {
    "papermill": {
     "duration": 0.021277,
     "end_time": "2020-10-17T17:14:43.381686",
     "exception": false,
     "start_time": "2020-10-17T17:14:43.360409",
     "status": "completed"
    },
    "tags": []
   },
   "source": [
    "Balancing the data"
   ]
  },
  {
   "cell_type": "code",
   "execution_count": 4,
   "metadata": {
    "execution": {
     "iopub.execute_input": "2020-10-17T17:14:43.434368Z",
     "iopub.status.busy": "2020-10-17T17:14:43.433628Z",
     "iopub.status.idle": "2020-10-17T17:14:43.458764Z",
     "shell.execute_reply": "2020-10-17T17:14:43.459367Z"
    },
    "papermill": {
     "duration": 0.056892,
     "end_time": "2020-10-17T17:14:43.459515",
     "exception": false,
     "start_time": "2020-10-17T17:14:43.402623",
     "status": "completed"
    },
    "tags": []
   },
   "outputs": [],
   "source": [
    "believe = train[train['sentiment'] ==1]\n",
    "no_belief = train[train['sentiment'] == -1]\n",
    "neutral = train[train['sentiment'] == 0]\n",
    "news = train[train['sentiment'] == 2]"
   ]
  },
  {
   "cell_type": "code",
   "execution_count": 5,
   "metadata": {
    "execution": {
     "iopub.execute_input": "2020-10-17T17:14:43.512023Z",
     "iopub.status.busy": "2020-10-17T17:14:43.511007Z",
     "iopub.status.idle": "2020-10-17T17:14:43.518704Z",
     "shell.execute_reply": "2020-10-17T17:14:43.519354Z"
    },
    "papermill": {
     "duration": 0.03854,
     "end_time": "2020-10-17T17:14:43.519527",
     "exception": false,
     "start_time": "2020-10-17T17:14:43.480987",
     "status": "completed"
    },
    "tags": []
   },
   "outputs": [],
   "source": [
    "no_belief_upsampled = resample(no_belief, replace=True, n_samples=len(believe), random_state=27)\n",
    "neutral_upsampled = resample(neutral, replace=True, n_samples=len(believe), random_state=27)\n",
    "news_upsampled = resample(news, replace=True, n_samples=len(believe), random_state=27)\n"
   ]
  },
  {
   "cell_type": "markdown",
   "metadata": {
    "papermill": {
     "duration": 0.021152,
     "end_time": "2020-10-17T17:14:43.562922",
     "exception": false,
     "start_time": "2020-10-17T17:14:43.541770",
     "status": "completed"
    },
    "tags": []
   },
   "source": [
    "Combine majority and upsampled minority"
   ]
  },
  {
   "cell_type": "code",
   "execution_count": 6,
   "metadata": {
    "execution": {
     "iopub.execute_input": "2020-10-17T17:14:43.613460Z",
     "iopub.status.busy": "2020-10-17T17:14:43.612719Z",
     "iopub.status.idle": "2020-10-17T17:14:43.618806Z",
     "shell.execute_reply": "2020-10-17T17:14:43.618146Z"
    },
    "papermill": {
     "duration": 0.034916,
     "end_time": "2020-10-17T17:14:43.618932",
     "exception": false,
     "start_time": "2020-10-17T17:14:43.584016",
     "status": "completed"
    },
    "tags": []
   },
   "outputs": [],
   "source": [
    "df_upsampled = pd.concat([believe, no_belief_upsampled, neutral_upsampled, news_upsampled])\n"
   ]
  },
  {
   "cell_type": "code",
   "execution_count": 7,
   "metadata": {
    "execution": {
     "iopub.execute_input": "2020-10-17T17:14:43.667842Z",
     "iopub.status.busy": "2020-10-17T17:14:43.667116Z",
     "iopub.status.idle": "2020-10-17T17:14:43.674890Z",
     "shell.execute_reply": "2020-10-17T17:14:43.675425Z"
    },
    "papermill": {
     "duration": 0.034649,
     "end_time": "2020-10-17T17:14:43.675567",
     "exception": false,
     "start_time": "2020-10-17T17:14:43.640918",
     "status": "completed"
    },
    "tags": []
   },
   "outputs": [
    {
     "data": {
      "text/plain": [
       "-1    8530\n",
       " 2    8530\n",
       " 1    8530\n",
       " 0    8530\n",
       "Name: sentiment, dtype: int64"
      ]
     },
     "execution_count": 7,
     "metadata": {},
     "output_type": "execute_result"
    }
   ],
   "source": [
    "df_upsampled.sentiment.value_counts()"
   ]
  },
  {
   "cell_type": "code",
   "execution_count": 8,
   "metadata": {
    "execution": {
     "iopub.execute_input": "2020-10-17T17:14:43.731244Z",
     "iopub.status.busy": "2020-10-17T17:14:43.730562Z",
     "iopub.status.idle": "2020-10-17T17:14:43.741269Z",
     "shell.execute_reply": "2020-10-17T17:14:43.740705Z"
    },
    "papermill": {
     "duration": 0.043048,
     "end_time": "2020-10-17T17:14:43.741396",
     "exception": false,
     "start_time": "2020-10-17T17:14:43.698348",
     "status": "completed"
    },
    "tags": []
   },
   "outputs": [
    {
     "data": {
      "text/html": [
       "<div>\n",
       "<style scoped>\n",
       "    .dataframe tbody tr th:only-of-type {\n",
       "        vertical-align: middle;\n",
       "    }\n",
       "\n",
       "    .dataframe tbody tr th {\n",
       "        vertical-align: top;\n",
       "    }\n",
       "\n",
       "    .dataframe thead th {\n",
       "        text-align: right;\n",
       "    }\n",
       "</style>\n",
       "<table border=\"1\" class=\"dataframe\">\n",
       "  <thead>\n",
       "    <tr style=\"text-align: right;\">\n",
       "      <th></th>\n",
       "      <th>sentiment</th>\n",
       "      <th>message</th>\n",
       "      <th>tweetid</th>\n",
       "    </tr>\n",
       "  </thead>\n",
       "  <tbody>\n",
       "    <tr>\n",
       "      <th>0</th>\n",
       "      <td>1</td>\n",
       "      <td>PolySciMajor EPA chief doesn't think carbon di...</td>\n",
       "      <td>625221</td>\n",
       "    </tr>\n",
       "    <tr>\n",
       "      <th>1</th>\n",
       "      <td>1</td>\n",
       "      <td>It's not like we lack evidence of anthropogeni...</td>\n",
       "      <td>126103</td>\n",
       "    </tr>\n",
       "    <tr>\n",
       "      <th>3</th>\n",
       "      <td>1</td>\n",
       "      <td>#TodayinMaker# WIRED : 2016 was a pivotal year...</td>\n",
       "      <td>573736</td>\n",
       "    </tr>\n",
       "    <tr>\n",
       "      <th>4</th>\n",
       "      <td>1</td>\n",
       "      <td>RT @SoyNovioDeTodas: It's 2016, and a racist, ...</td>\n",
       "      <td>466954</td>\n",
       "    </tr>\n",
       "    <tr>\n",
       "      <th>5</th>\n",
       "      <td>1</td>\n",
       "      <td>Worth a read whether you do or don't believe i...</td>\n",
       "      <td>425577</td>\n",
       "    </tr>\n",
       "    <tr>\n",
       "      <th>...</th>\n",
       "      <td>...</td>\n",
       "      <td>...</td>\n",
       "      <td>...</td>\n",
       "    </tr>\n",
       "    <tr>\n",
       "      <th>15472</th>\n",
       "      <td>2</td>\n",
       "      <td>RT @ABC7: President Trump signs executive orde...</td>\n",
       "      <td>914103</td>\n",
       "    </tr>\n",
       "    <tr>\n",
       "      <th>9341</th>\n",
       "      <td>2</td>\n",
       "      <td>RT @RoseBartu: Jane Goodall calls Trump's clim...</td>\n",
       "      <td>44676</td>\n",
       "    </tr>\n",
       "    <tr>\n",
       "      <th>10506</th>\n",
       "      <td>2</td>\n",
       "      <td>Government to outline climate change risks fac...</td>\n",
       "      <td>321347</td>\n",
       "    </tr>\n",
       "    <tr>\n",
       "      <th>12624</th>\n",
       "      <td>2</td>\n",
       "      <td>Teens suing US over climate change ask for Exx...</td>\n",
       "      <td>247796</td>\n",
       "    </tr>\n",
       "    <tr>\n",
       "      <th>15099</th>\n",
       "      <td>2</td>\n",
       "      <td>In rare move, China criticizes Trump plan to e...</td>\n",
       "      <td>852762</td>\n",
       "    </tr>\n",
       "  </tbody>\n",
       "</table>\n",
       "<p>34120 rows × 3 columns</p>\n",
       "</div>"
      ],
      "text/plain": [
       "       sentiment                                            message  tweetid\n",
       "0              1  PolySciMajor EPA chief doesn't think carbon di...   625221\n",
       "1              1  It's not like we lack evidence of anthropogeni...   126103\n",
       "3              1  #TodayinMaker# WIRED : 2016 was a pivotal year...   573736\n",
       "4              1  RT @SoyNovioDeTodas: It's 2016, and a racist, ...   466954\n",
       "5              1  Worth a read whether you do or don't believe i...   425577\n",
       "...          ...                                                ...      ...\n",
       "15472          2  RT @ABC7: President Trump signs executive orde...   914103\n",
       "9341           2  RT @RoseBartu: Jane Goodall calls Trump's clim...    44676\n",
       "10506          2  Government to outline climate change risks fac...   321347\n",
       "12624          2  Teens suing US over climate change ask for Exx...   247796\n",
       "15099          2  In rare move, China criticizes Trump plan to e...   852762\n",
       "\n",
       "[34120 rows x 3 columns]"
      ]
     },
     "execution_count": 8,
     "metadata": {},
     "output_type": "execute_result"
    }
   ],
   "source": [
    "df_upsampled"
   ]
  },
  {
   "cell_type": "markdown",
   "metadata": {
    "papermill": {
     "duration": 0.023035,
     "end_time": "2020-10-17T17:14:43.788200",
     "exception": false,
     "start_time": "2020-10-17T17:14:43.765165",
     "status": "completed"
    },
    "tags": []
   },
   "source": [
    "Splitting out the X variable from the target"
   ]
  },
  {
   "cell_type": "code",
   "execution_count": 9,
   "metadata": {
    "execution": {
     "iopub.execute_input": "2020-10-17T17:14:43.840031Z",
     "iopub.status.busy": "2020-10-17T17:14:43.839325Z",
     "iopub.status.idle": "2020-10-17T17:14:43.841837Z",
     "shell.execute_reply": "2020-10-17T17:14:43.842343Z"
    },
    "papermill": {
     "duration": 0.031193,
     "end_time": "2020-10-17T17:14:43.842493",
     "exception": false,
     "start_time": "2020-10-17T17:14:43.811300",
     "status": "completed"
    },
    "tags": []
   },
   "outputs": [],
   "source": [
    "y = df_upsampled['sentiment']\n",
    "X = df_upsampled['message']"
   ]
  },
  {
   "cell_type": "markdown",
   "metadata": {
    "papermill": {
     "duration": 0.023134,
     "end_time": "2020-10-17T17:14:43.889315",
     "exception": false,
     "start_time": "2020-10-17T17:14:43.866181",
     "status": "completed"
    },
    "tags": []
   },
   "source": [
    "Turning text into something your model can read"
   ]
  },
  {
   "cell_type": "code",
   "execution_count": 10,
   "metadata": {
    "execution": {
     "iopub.execute_input": "2020-10-17T17:14:43.975378Z",
     "iopub.status.busy": "2020-10-17T17:14:43.965037Z",
     "iopub.status.idle": "2020-10-17T17:14:45.976189Z",
     "shell.execute_reply": "2020-10-17T17:14:45.975539Z"
    },
    "papermill": {
     "duration": 2.063372,
     "end_time": "2020-10-17T17:14:45.976313",
     "exception": false,
     "start_time": "2020-10-17T17:14:43.912941",
     "status": "completed"
    },
    "tags": []
   },
   "outputs": [],
   "source": [
    "vectorizer = TfidfVectorizer(ngram_range=(1,2), min_df=2, stop_words=\"english\", max_df=0.75)\n",
    "X_vectorized = vectorizer.fit_transform(X)"
   ]
  },
  {
   "cell_type": "markdown",
   "metadata": {
    "papermill": {
     "duration": 0.030285,
     "end_time": "2020-10-17T17:14:46.030920",
     "exception": false,
     "start_time": "2020-10-17T17:14:46.000635",
     "status": "completed"
    },
    "tags": []
   },
   "source": [
    "Splitting the training data into a training and validation set"
   ]
  },
  {
   "cell_type": "code",
   "execution_count": 11,
   "metadata": {
    "execution": {
     "iopub.execute_input": "2020-10-17T17:14:46.084928Z",
     "iopub.status.busy": "2020-10-17T17:14:46.084184Z",
     "iopub.status.idle": "2020-10-17T17:14:46.117091Z",
     "shell.execute_reply": "2020-10-17T17:14:46.116501Z"
    },
    "papermill": {
     "duration": 0.062316,
     "end_time": "2020-10-17T17:14:46.117215",
     "exception": false,
     "start_time": "2020-10-17T17:14:46.054899",
     "status": "completed"
    },
    "tags": []
   },
   "outputs": [],
   "source": [
    "X_train,X_val,y_train,y_val = train_test_split(X_vectorized,y,test_size=.3,shuffle=True, stratify=y, random_state=11)"
   ]
  },
  {
   "cell_type": "markdown",
   "metadata": {
    "papermill": {
     "duration": 0.023415,
     "end_time": "2020-10-17T17:14:46.163945",
     "exception": false,
     "start_time": "2020-10-17T17:14:46.140530",
     "status": "completed"
    },
    "tags": []
   },
   "source": [
    "Training the model and evaluating using the validation set"
   ]
  },
  {
   "cell_type": "code",
   "execution_count": 12,
   "metadata": {
    "execution": {
     "iopub.execute_input": "2020-10-17T17:14:46.217098Z",
     "iopub.status.busy": "2020-10-17T17:14:46.216334Z",
     "iopub.status.idle": "2020-10-17T17:14:46.966999Z",
     "shell.execute_reply": "2020-10-17T17:14:46.966224Z"
    },
    "papermill": {
     "duration": 0.779182,
     "end_time": "2020-10-17T17:14:46.967145",
     "exception": false,
     "start_time": "2020-10-17T17:14:46.187963",
     "status": "completed"
    },
    "tags": []
   },
   "outputs": [],
   "source": [
    "lsvc = LinearSVC()\n",
    "lsvc.fit(X_train, y_train)\n",
    "lsvc_pred = lsvc.predict(X_val)"
   ]
  },
  {
   "cell_type": "markdown",
   "metadata": {
    "papermill": {
     "duration": 0.024247,
     "end_time": "2020-10-17T17:14:47.015785",
     "exception": false,
     "start_time": "2020-10-17T17:14:46.991538",
     "status": "completed"
    },
    "tags": []
   },
   "source": [
    "Checking the performance of our model on the validation set"
   ]
  },
  {
   "cell_type": "code",
   "execution_count": 13,
   "metadata": {
    "execution": {
     "iopub.execute_input": "2020-10-17T17:14:47.068937Z",
     "iopub.status.busy": "2020-10-17T17:14:47.068232Z",
     "iopub.status.idle": "2020-10-17T17:14:47.078422Z",
     "shell.execute_reply": "2020-10-17T17:14:47.077706Z"
    },
    "papermill": {
     "duration": 0.039248,
     "end_time": "2020-10-17T17:14:47.078531",
     "exception": false,
     "start_time": "2020-10-17T17:14:47.039283",
     "status": "completed"
    },
    "tags": []
   },
   "outputs": [
    {
     "data": {
      "text/plain": [
       "0.9570665564988128"
      ]
     },
     "execution_count": 13,
     "metadata": {},
     "output_type": "execute_result"
    }
   ],
   "source": [
    "f1_score(y_val, lsvc_pred, average=\"macro\")"
   ]
  },
  {
   "cell_type": "markdown",
   "metadata": {
    "papermill": {
     "duration": 0.024474,
     "end_time": "2020-10-17T17:14:47.127284",
     "exception": false,
     "start_time": "2020-10-17T17:14:47.102810",
     "status": "completed"
    },
    "tags": []
   },
   "source": [
    "Getting our test set ready"
   ]
  },
  {
   "cell_type": "code",
   "execution_count": 14,
   "metadata": {
    "execution": {
     "iopub.execute_input": "2020-10-17T17:14:47.216907Z",
     "iopub.status.busy": "2020-10-17T17:14:47.206549Z",
     "iopub.status.idle": "2020-10-17T17:14:47.691553Z",
     "shell.execute_reply": "2020-10-17T17:14:47.690935Z"
    },
    "papermill": {
     "duration": 0.539938,
     "end_time": "2020-10-17T17:14:47.691684",
     "exception": false,
     "start_time": "2020-10-17T17:14:47.151746",
     "status": "completed"
    },
    "tags": []
   },
   "outputs": [],
   "source": [
    "testx = test['message']\n",
    "test_vect = vectorizer.transform(testx)"
   ]
  },
  {
   "cell_type": "markdown",
   "metadata": {
    "papermill": {
     "duration": 0.02459,
     "end_time": "2020-10-17T17:14:47.741753",
     "exception": false,
     "start_time": "2020-10-17T17:14:47.717163",
     "status": "completed"
    },
    "tags": []
   },
   "source": [
    "Making predictions on the test set and adding a sentiment column to our original test df"
   ]
  },
  {
   "cell_type": "code",
   "execution_count": 15,
   "metadata": {
    "execution": {
     "iopub.execute_input": "2020-10-17T17:14:47.796778Z",
     "iopub.status.busy": "2020-10-17T17:14:47.796002Z",
     "iopub.status.idle": "2020-10-17T17:14:47.801472Z",
     "shell.execute_reply": "2020-10-17T17:14:47.800746Z"
    },
    "papermill": {
     "duration": 0.034764,
     "end_time": "2020-10-17T17:14:47.801589",
     "exception": false,
     "start_time": "2020-10-17T17:14:47.766825",
     "status": "completed"
    },
    "tags": []
   },
   "outputs": [],
   "source": [
    "y_pred = lsvc.predict(test_vect)"
   ]
  },
  {
   "cell_type": "code",
   "execution_count": 16,
   "metadata": {
    "execution": {
     "iopub.execute_input": "2020-10-17T17:14:47.858301Z",
     "iopub.status.busy": "2020-10-17T17:14:47.857289Z",
     "iopub.status.idle": "2020-10-17T17:14:47.860472Z",
     "shell.execute_reply": "2020-10-17T17:14:47.859838Z"
    },
    "papermill": {
     "duration": 0.033722,
     "end_time": "2020-10-17T17:14:47.860592",
     "exception": false,
     "start_time": "2020-10-17T17:14:47.826870",
     "status": "completed"
    },
    "tags": []
   },
   "outputs": [],
   "source": [
    "test['sentiment'] = y_pred"
   ]
  },
  {
   "cell_type": "code",
   "execution_count": 17,
   "metadata": {
    "execution": {
     "iopub.execute_input": "2020-10-17T17:14:47.920394Z",
     "iopub.status.busy": "2020-10-17T17:14:47.919608Z",
     "iopub.status.idle": "2020-10-17T17:14:47.924144Z",
     "shell.execute_reply": "2020-10-17T17:14:47.923498Z"
    },
    "papermill": {
     "duration": 0.038465,
     "end_time": "2020-10-17T17:14:47.924255",
     "exception": false,
     "start_time": "2020-10-17T17:14:47.885790",
     "status": "completed"
    },
    "tags": []
   },
   "outputs": [
    {
     "data": {
      "text/html": [
       "<div>\n",
       "<style scoped>\n",
       "    .dataframe tbody tr th:only-of-type {\n",
       "        vertical-align: middle;\n",
       "    }\n",
       "\n",
       "    .dataframe tbody tr th {\n",
       "        vertical-align: top;\n",
       "    }\n",
       "\n",
       "    .dataframe thead th {\n",
       "        text-align: right;\n",
       "    }\n",
       "</style>\n",
       "<table border=\"1\" class=\"dataframe\">\n",
       "  <thead>\n",
       "    <tr style=\"text-align: right;\">\n",
       "      <th></th>\n",
       "      <th>message</th>\n",
       "      <th>tweetid</th>\n",
       "      <th>sentiment</th>\n",
       "    </tr>\n",
       "  </thead>\n",
       "  <tbody>\n",
       "    <tr>\n",
       "      <th>0</th>\n",
       "      <td>Europe will now be looking to China to make su...</td>\n",
       "      <td>169760</td>\n",
       "      <td>1</td>\n",
       "    </tr>\n",
       "    <tr>\n",
       "      <th>1</th>\n",
       "      <td>Combine this with the polling of staffers re c...</td>\n",
       "      <td>35326</td>\n",
       "      <td>1</td>\n",
       "    </tr>\n",
       "    <tr>\n",
       "      <th>2</th>\n",
       "      <td>The scary, unimpeachable evidence that climate...</td>\n",
       "      <td>224985</td>\n",
       "      <td>1</td>\n",
       "    </tr>\n",
       "    <tr>\n",
       "      <th>3</th>\n",
       "      <td>@Karoli @morgfair @OsborneInk @dailykos \\nPuti...</td>\n",
       "      <td>476263</td>\n",
       "      <td>1</td>\n",
       "    </tr>\n",
       "    <tr>\n",
       "      <th>4</th>\n",
       "      <td>RT @FakeWillMoore: 'Female orgasms cause globa...</td>\n",
       "      <td>872928</td>\n",
       "      <td>0</td>\n",
       "    </tr>\n",
       "  </tbody>\n",
       "</table>\n",
       "</div>"
      ],
      "text/plain": [
       "                                             message  tweetid  sentiment\n",
       "0  Europe will now be looking to China to make su...   169760          1\n",
       "1  Combine this with the polling of staffers re c...    35326          1\n",
       "2  The scary, unimpeachable evidence that climate...   224985          1\n",
       "3  @Karoli @morgfair @OsborneInk @dailykos \\nPuti...   476263          1\n",
       "4  RT @FakeWillMoore: 'Female orgasms cause globa...   872928          0"
      ]
     },
     "execution_count": 17,
     "metadata": {},
     "output_type": "execute_result"
    }
   ],
   "source": [
    "test.head()"
   ]
  },
  {
   "cell_type": "markdown",
   "metadata": {
    "papermill": {
     "duration": 0.025423,
     "end_time": "2020-10-17T17:14:47.975931",
     "exception": false,
     "start_time": "2020-10-17T17:14:47.950508",
     "status": "completed"
    },
    "tags": []
   },
   "source": [
    "Creating an output csv for submission"
   ]
  },
  {
   "cell_type": "code",
   "execution_count": 18,
   "metadata": {
    "execution": {
     "iopub.execute_input": "2020-10-17T17:14:48.034549Z",
     "iopub.status.busy": "2020-10-17T17:14:48.033748Z",
     "iopub.status.idle": "2020-10-17T17:14:48.320640Z",
     "shell.execute_reply": "2020-10-17T17:14:48.319822Z"
    },
    "papermill": {
     "duration": 0.318821,
     "end_time": "2020-10-17T17:14:48.320766",
     "exception": false,
     "start_time": "2020-10-17T17:14:48.001945",
     "status": "completed"
    },
    "tags": []
   },
   "outputs": [],
   "source": [
    "test[['tweetid','sentiment']].to_csv('testsubmission.csv', index=False)"
   ]
  },
  {
   "cell_type": "markdown",
   "metadata": {
    "papermill": {
     "duration": 0.025947,
     "end_time": "2020-10-17T17:14:48.373674",
     "exception": false,
     "start_time": "2020-10-17T17:14:48.347727",
     "status": "completed"
    },
    "tags": []
   },
   "source": []
  }
 ],
 "metadata": {
  "kernelspec": {
   "display_name": "Python 3",
   "language": "python",
   "name": "python3"
  },
  "language_info": {
   "codemirror_mode": {
    "name": "ipython",
    "version": 3
   },
   "file_extension": ".py",
   "mimetype": "text/x-python",
   "name": "python",
   "nbconvert_exporter": "python",
   "pygments_lexer": "ipython3",
   "version": "3.7.6"
  },
  "papermill": {
   "duration": 11.685417,
   "end_time": "2020-10-17T17:14:48.507017",
   "environment_variables": {},
   "exception": null,
   "input_path": "__notebook__.ipynb",
   "output_path": "__notebook__.ipynb",
   "parameters": {},
   "start_time": "2020-10-17T17:14:36.821600",
   "version": "2.1.0"
  }
 },
 "nbformat": 4,
 "nbformat_minor": 4
}
